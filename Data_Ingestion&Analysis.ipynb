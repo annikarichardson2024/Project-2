{
  "cells": [
    {
      "cell_type": "code",
      "execution_count": 1,
      "id": "deaaa110",
      "metadata": {
        "id": "deaaa110"
      },
      "outputs": [],
      "source": [
        "import os\n",
        "import json\n",
        "import pprint\n",
        "import requests\n",
        "import requests.exceptions\n",
        "import pandas as pd"
      ]
    },
    {
      "cell_type": "code",
      "execution_count": 2,
      "id": "37af22bd",
      "metadata": {
        "id": "37af22bd"
      },
      "outputs": [],
      "source": [
        "url = \"https://4feaquhyai.execute-api.us-east-1.amazonaws.com/api/pi\"\n",
        "\n",
        "response_type = ['json', 'dataframe']"
      ]
    },
    {
      "cell_type": "code",
      "execution_count": 3,
      "id": "9e79b157",
      "metadata": {
        "id": "9e79b157"
      },
      "outputs": [],
      "source": [
        "def get_api_response(url, response_type):\n",
        "    try:\n",
        "        response = requests.get(url)\n",
        "        response.raise_for_status()\n",
        "\n",
        "    except requests.exceptions.HTTPError as errh:\n",
        "        return \"An Http Error occurred: \" + repr(errh)\n",
        "    except requests.exceptions.ConnectionError as errc:\n",
        "        return \"An Error Connecting to the API occurred: \" + repr(errc)\n",
        "    except requests.exceptions.Timeout as errt:\n",
        "        return \"A Timeout Error occurred: \" + repr(errt)\n",
        "    except requests.exceptions.RequestException as err:\n",
        "        return \"An Unknown Error occurred: \" + repr(err)\n",
        "\n",
        "    if response_type == 'json':\n",
        "        result = json.dumps(response.json(), sort_keys=True, indent=4)\n",
        "    elif response_type == 'dataframe':\n",
        "        result = pd.json_normalize(response.json())\n",
        "    else:\n",
        "        result = \"An unhandled error has occurred!\"\n",
        "\n",
        "    return result"
      ]
    },
    {
      "cell_type": "code",
      "source": [
        "pip install schedule"
      ],
      "metadata": {
        "colab": {
          "base_uri": "https://localhost:8080/"
        },
        "id": "oh2XhwF1eBwJ",
        "outputId": "97d7f12b-f23f-462a-9d1b-52adeb63268d"
      },
      "id": "oh2XhwF1eBwJ",
      "execution_count": 4,
      "outputs": [
        {
          "output_type": "stream",
          "name": "stdout",
          "text": [
            "Collecting schedule\n",
            "  Downloading schedule-1.2.1-py2.py3-none-any.whl (11 kB)\n",
            "Installing collected packages: schedule\n",
            "Successfully installed schedule-1.2.1\n"
          ]
        }
      ]
    },
    {
      "cell_type": "code",
      "source": [
        "import schedule\n",
        "import time\n",
        "\n",
        "def schedule_data():\n",
        "  df = get_api_response(url, response_type[1])\n",
        "\n",
        "  for _ in range (60):\n",
        "    df.add(get_api_response(url, response_type[1]))\n",
        "    print(df)\n",
        "    time.sleep(60)"
      ],
      "metadata": {
        "id": "rGoxtcuzdsgx"
      },
      "id": "rGoxtcuzdsgx",
      "execution_count": 39,
      "outputs": []
    },
    {
      "cell_type": "code",
      "source": [
        "schedule_data()"
      ],
      "metadata": {
        "id": "ypXFSuyrFEa7",
        "outputId": "8e229a1e-793b-4e8e-d2d3-be9ba196afe6",
        "colab": {
          "base_uri": "https://localhost:8080/"
        }
      },
      "id": "ypXFSuyrFEa7",
      "execution_count": null,
      "outputs": [
        {
          "output_type": "stream",
          "name": "stdout",
          "text": [
            "   factor        pi                 time\n",
            "0   39304  3.141567  2024-04-29 18:34:54\n"
          ]
        }
      ]
    }
  ],
  "metadata": {
    "kernelspec": {
      "display_name": "Python 3 (ipykernel)",
      "language": "python",
      "name": "python3"
    },
    "language_info": {
      "codemirror_mode": {
        "name": "ipython",
        "version": 3
      },
      "file_extension": ".py",
      "mimetype": "text/x-python",
      "name": "python",
      "nbconvert_exporter": "python",
      "pygments_lexer": "ipython3",
      "version": "3.9.12"
    },
    "colab": {
      "provenance": []
    }
  },
  "nbformat": 4,
  "nbformat_minor": 5
}